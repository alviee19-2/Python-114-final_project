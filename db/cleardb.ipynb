{
 "cells": [
  {
   "cell_type": "code",
   "execution_count": 4,
   "id": "a919e35b",
   "metadata": {},
   "outputs": [
    {
     "name": "stdout",
     "output_type": "stream",
     "text": [
      "✅ 已清空 c:\\Users\\user\\Desktop\\Python-114-final_project\\db 下所有子資料夾\n"
     ]
    }
   ],
   "source": [
    "import shutil\n",
    "import os\n",
    "from pathlib import Path\n",
    "\n",
    "db_folder = Path.cwd()\n",
    "\n",
    "if db_folder.exists() and db_folder.is_dir():\n",
    "    for sub in db_folder.iterdir():\n",
    "        # 只刪資料夾，保留檔案（像 .ipynb）\n",
    "        if sub.is_dir():\n",
    "            shutil.rmtree(sub)\n",
    "    print(f\"✅ 已清空 {db_folder} 下所有子資料夾\")\n",
    "else:\n",
    "    print(f\"❌ 找不到資料夾：{db_folder}\")\n"
   ]
  }
 ],
 "metadata": {
  "kernelspec": {
   "display_name": "Python 3",
   "language": "python",
   "name": "python3"
  },
  "language_info": {
   "codemirror_mode": {
    "name": "ipython",
    "version": 3
   },
   "file_extension": ".py",
   "mimetype": "text/x-python",
   "name": "python",
   "nbconvert_exporter": "python",
   "pygments_lexer": "ipython3",
   "version": "3.13.2"
  }
 },
 "nbformat": 4,
 "nbformat_minor": 5
}
