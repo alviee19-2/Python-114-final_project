{
 "cells": [
  {
   "cell_type": "code",
   "execution_count": 1,
   "id": "a919e35b",
   "metadata": {},
   "outputs": [
    {
     "name": "stdout",
     "output_type": "stream",
     "text": [
      "c:\\Users\\newkp\\Desktop\\Python-114-final_project\\db\n",
      "✅ 已清空 c:\\Users\\newkp\\Desktop\\Python-114-final_project\\db\\taiwan_stock_book_and_trade 裡的所有內容\n",
      "✅ 已清空 c:\\Users\\newkp\\Desktop\\Python-114-final_project\\db\\taiwan_stock_info 裡的所有內容\n",
      "✅ 已清空 c:\\Users\\newkp\\Desktop\\Python-114-final_project\\db\\taiwan_stock_total_return_index 裡的所有內容\n",
      "✅ 已清空 c:\\Users\\newkp\\Desktop\\Python-114-final_project\\db\\tse 裡的所有內容\n"
     ]
    }
   ],
   "source": [
    "import shutil\n",
    "import os\n",
    "from pathlib import Path\n",
    "\n",
    "db_folder = Path.cwd()\n",
    "print(db_folder)\n",
    "\n",
    "if db_folder.exists() and db_folder.is_dir():\n",
    "    # 針對 db 下的每個子資料夾\n",
    "    for subfolder in db_folder.iterdir():\n",
    "        if subfolder.is_dir():\n",
    "            # 刪除子資料夾裡的所有檔案和資料夾\n",
    "            for item in subfolder.iterdir():\n",
    "                if item.is_file():\n",
    "                    item.unlink()  # 刪除檔案\n",
    "                elif item.is_dir():\n",
    "                    shutil.rmtree(item)  # 刪除子資料夾及其內容\n",
    "            print(f\"✅ 已清空 {subfolder} 裡的所有內容\")\n",
    "else:\n",
    "    print(f\"❌ 找不到資料夾：{db_folder}\")"
   ]
  }
 ],
 "metadata": {
  "kernelspec": {
   "display_name": "base",
   "language": "python",
   "name": "python3"
  },
  "language_info": {
   "codemirror_mode": {
    "name": "ipython",
    "version": 3
   },
   "file_extension": ".py",
   "mimetype": "text/x-python",
   "name": "python",
   "nbconvert_exporter": "python",
   "pygments_lexer": "ipython3",
   "version": "3.12.4"
  }
 },
 "nbformat": 4,
 "nbformat_minor": 5
}
